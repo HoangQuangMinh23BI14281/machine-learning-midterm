{
  "cells": [
    {
      "cell_type": "markdown",
      "metadata": {},
      "source": [
        "# Output before improve accuracy:\n",
        "```makefile\n",
        "Loading pre-trained weights for models...\n",
        "Linear Regression weights loaded successfully.\n",
        "Logistic Regression weights loaded successfully.\n",
        "Predicting clinical tests and symptoms...\n",
        "User Inputs and Predicted Features:\n",
        "Age: 19.0 (User Input)\n",
        "Gender: Male (User Input)\n",
        "Ethnicity: Asian (User Input)\n",
        "Income: 97500.0 (User Input)\n",
        "EducationLevel: College (User Input)\n",
        "Residence: Urban (User Input)\n",
        "EmploymentStatus: Employed (User Input)\n",
        "MaritalStatus: Single (User Input)\n",
        "Smoker: No (User Input)\n",
        "PhysicalActivity: 0 (User Input)\n",
        "AlcoholConsumption: 0 (User Input)\n",
        "Diet: Unhealthy (User Input)\n",
        "StressLevel: 6.0 (User Input)\n",
        "Diabetes: Yes (User Input)\n",
        "Hypertension: Yes (User Input)\n",
        "FamilyHistory: Yes (User Input)\n",
        "Medication: No (User Input)\n",
        "PreviousHeartAttack: Yes (User Input)\n",
        "StrokeHistory: Yes (User Input)\n",
        "Cholesterol: 199 (Predicted)\n",
        "BloodPressure: 134 (Predicted)\n",
        "HeartRate: 90 (Predicted)\n",
        "BMI: 29 (Predicted)\n",
        "MaxHeartRate: 150 (Predicted)\n",
        "ST_Depression: 2 (Predicted)\n",
        "NumberOfMajorVessels: 1 (Predicted)\n",
        "ChestPainType: Atypical (Predicted)\n",
        "ECGResults: LV hypertrophy (Predicted)\n",
        "ExerciseInducedAngina: Yes (Predicted)\n",
        "Slope: Upsloping (Predicted)\n",
        "Thalassemia: Reversible defect (Predicted)\n",
        "Heart Attack Probability: 50.95%\n",
        "\n",
        "Model Evaluation:\n",
        "Logistic Regression Evaluation Metrics (with inverse standardization):\n",
        "Accuracy: 0.5012\n",
        "Precision: 0.5022\n",
        "Recall: 0.5211\n",
        "F1-Score: 0.5115\n",
        "Log Loss: 0.6932\n",
        "\n",
        "Linear Regression Evaluation (with inverse standardization):\n",
        "MAE: 49.9214\n",
        "MSE: 3325.0543\n",
        "R² Score: 0.0001\n",
        "```"
      ]
    },
    {
      "cell_type": "markdown",
      "metadata": {},
      "source": [
        "# Output after improve accuracy:\n",
        "```makefile\n",
        "```"
      ]
    },
    {
      "cell_type": "code",
      "execution_count": null,
      "metadata": {},
      "outputs": [],
      "source": [
        "# code comparison:\n"
      ]
    }
  ],
  "metadata": {
    "colab": {
      "include_colab_link": true,
      "name": "Chào mừng bạn đến với Colab",
      "provenance": [],
      "toc_visible": true
    },
    "kernelspec": {
      "display_name": "Python 3",
      "name": "python3"
    }
  },
  "nbformat": 4,
  "nbformat_minor": 0
}
