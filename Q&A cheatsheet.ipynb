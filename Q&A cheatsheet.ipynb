{
  "cells": [
    {
      "cell_type": "markdown",
      "metadata": {},
      "source": [
        "# Q&A cheatsheet"
      ]
    },
    {
      "cell_type": "markdown",
      "metadata": {},
      "source": [
        "1. why use gradient decent?"
      ]
    },
    {
      "cell_type": "markdown",
      "metadata": {},
      "source": [
        "2. gradient equation\n",
        "`y=a0+a1*x1+a2*x2+...+a19*x19` \n",
        "is a line , very good.\n",
        "to find A0 A1..."
      ]
    },
    {
      "cell_type": "markdown",
      "metadata": {},
      "source": [
        "3. why logistic use sigmoid function?\n",
        "use curve for better fit."
      ]
    },
    {
      "cell_type": "markdown",
      "metadata": {},
      "source": [
        "## preprocess "
      ]
    },
    {
      "cell_type": "markdown",
      "metadata": {},
      "source": [
        "4. standarize?\n",
        "a0 , a1 a2 could be extremely large or small. \n",
        "e.g: age and Male Female (0,1)\n",
        "standardize: calc avr for Age, then minus the average, then divide by std."
      ]
    },
    {
      "cell_type": "markdown",
      "metadata": {},
      "source": [
        "5. inverse standardize?\n",
        "to avoid negative numbers. and revert back to Text (Gender)"
      ]
    },
    {
      "cell_type": "markdown",
      "metadata": {},
      "source": [
        "6. Xtrain: 80% data. Xtest 20% data. same to Y train and Y test.\n"
      ]
    },
    {
      "cell_type": "markdown",
      "metadata": {},
      "source": [
        "7. train test split: randomize and split the data into training and testing features."
      ]
    },
    {
      "cell_type": "markdown",
      "metadata": {},
      "source": [
        "## main"
      ]
    },
    {
      "cell_type": "markdown",
      "metadata": {},
      "source": [
        "8.  `value=round(value)`, `value=int(value)` is different than `value=int(round(value))`\n",
        " round(0.5) = 0, round(1.5) = 2\n",
        "    int(0.5) = 0, int(1.5) = 1\n",
        "    int(round(0.5)) = 1, int(round(1.5)) = 2"
      ]
    }
  ],
  "metadata": {
    "colab": {
      "include_colab_link": true,
      "name": "Chào mừng bạn đến với Colab",
      "provenance": [],
      "toc_visible": true
    },
    "kernelspec": {
      "display_name": "Python 3",
      "name": "python3"
    }
  },
  "nbformat": 4,
  "nbformat_minor": 0
}
